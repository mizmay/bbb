{
 "cells": [
  {
   "cell_type": "markdown",
   "id": "29517f43",
   "metadata": {},
   "source": [
    "## Clean up data on 1st house vote"
   ]
  },
  {
   "cell_type": "code",
   "execution_count": 16,
   "id": "0f18937c",
   "metadata": {},
   "outputs": [
    {
     "name": "stdout",
     "output_type": "stream",
     "text": [
      "Congressional vote data cleaned and saved to cleaned_data/congress_votes_119-2025_h145_cleaned.csv\n"
     ]
    }
   ],
   "source": [
    "import pandas as pd\n",
    "\n",
    "join_field = 'house_dist'\n",
    "\n",
    "votes = pd.read_csv('original_data/congress_votes_119-2025_h145.csv')\n",
    "votes['district'] = votes['district'].astype(str)\n",
    "votes[join_field] = votes['state'] + votes['district'].apply(lambda x: x if len(x) > 1 else '0' + x)\n",
    "votes = votes[[join_field, 'party', 'vote']]\n",
    "votes = votes.rename(columns={'vote': 'Vote', 'party': 'Party Name'})\n",
    "write_path = 'cleaned_data/congress_votes_119-2025_h145_cleaned.csv'\n",
    "votes.to_csv(write_path, index=False)\n",
    "print(f\"Congressional vote data cleaned and saved to {write_path}\")"
   ]
  },
  {
   "cell_type": "markdown",
   "id": "bc624702",
   "metadata": {},
   "source": [
    "## Clean up shapefile of house districts and convert it to GeoJSON"
   ]
  },
  {
   "cell_type": "code",
   "execution_count": 17,
   "id": "c575cdcd",
   "metadata": {},
   "outputs": [
    {
     "name": "stdout",
     "output_type": "stream",
     "text": [
      "EPSG:3857\n",
      "Index(['STATEFP', 'CD119FP', 'GEOID', 'GEOIDFQ', 'NAMELSAD', 'LSAD', 'CDSESSN',\n",
      "       'MTFCC', 'FUNCSTAT', 'ALAND', 'AWATER', 'INTPTLAT', 'INTPTLON',\n",
      "       'OFFICE_ID', 'BIOGUIDE_I', 'OFFICE_AUD', 'PREFIX', 'FIRSTNAME',\n",
      "       'MIDDLENAME', 'LASTNAME', 'SUFFIX', 'LISTING_NA', 'PHONE', 'WEBSITEURL',\n",
      "       'VACANT', 'CONTACTFOR', 'PHOTOURL', 'FACE_BOOK_', 'TWITTER_UR',\n",
      "       'YOUTUBE_UR', 'INSTAGRAM_', 'FLICKR_URL', 'PARTY', 'DISTRICT', 'STATE',\n",
      "       'VACANCY', 'ROOM_NUM', 'HOB', 'COMMITTEE_', 'LAST_UPDAT', 'geometry',\n",
      "       'house_dist'],\n",
      "      dtype='object')\n",
      "House district representatives data cleaned and saved to cleaned_data/house_district_representatives_cleaned.shp\n"
     ]
    }
   ],
   "source": [
    "import geopandas as gpd\n",
    "\n",
    "# Load the shapefile\n",
    "house_district_representatives = gpd.read_file('original_data/NTAD_Congressional_Districts_8811650228901827709/Congressional_Districts.shp')\n",
    "\n",
    "# Verify the projection\n",
    "print(house_district_representatives.crs)\n",
    "\n",
    "# Mapping from STATEFP to state abbreviation\n",
    "statefp_to_abbr = {\n",
    "    '01': 'AL', '02': 'AK', '04': 'AZ', '05': 'AR', '06': 'CA', '08': 'CO', '09': 'CT',\n",
    "    '10': 'DE', '11': 'DC', '12': 'FL', '13': 'GA', '15': 'HI', '16': 'ID', '17': 'IL',\n",
    "    '18': 'IN', '19': 'IA', '20': 'KS', '21': 'KY', '22': 'LA', '23': 'ME', '24': 'MD',\n",
    "    '25': 'MA', '26': 'MI', '27': 'MN', '28': 'MS', '29': 'MO', '30': 'MT', '31': 'NE',\n",
    "    '32': 'NV', '33': 'NH', '34': 'NJ', '35': 'NM', '36': 'NY', '37': 'NC', '38': 'ND',\n",
    "    '39': 'OH', '40': 'OK', '41': 'OR', '42': 'PA', '44': 'RI', '45': 'SC', '46': 'SD',\n",
    "    '47': 'TN', '48': 'TX', '49': 'UT', '50': 'VT', '51': 'VA', '53': 'WA', '54': 'WV',\n",
    "    '55': 'WI', '56': 'WY'\n",
    "}\n",
    "\n",
    "# Populate the STATE field\n",
    "house_district_representatives['STATE'] = house_district_representatives['STATEFP'].map(statefp_to_abbr)\n",
    "\n",
    "# Create the Congressional District field\n",
    "house_district_representatives[join_field] = house_district_representatives['STATE'] + house_district_representatives['DISTRICT']\n",
    "\n",
    "# Print the resulting column names\n",
    "print(house_district_representatives.columns)\n",
    "\n",
    "columns_to_keep = ['PREFIX', 'FIRSTNAME', 'MIDDLENAME', 'LASTNAME', 'SUFFIX', 'LISTING_NA',\n",
    "                   'PHONE', 'WEBSITEURL', 'VACANT', 'CONTACTFOR', 'PHOTOURL', 'FACE_BOOK_',\n",
    "                   'TWITTER_UR', 'YOUTUBE_UR', 'INSTAGRAM_', 'FLICKR_URL', 'PARTY', 'DISTRICT',\n",
    "                   'STATE', 'VACANCY', 'ROOM_NUM', 'geometry', join_field]\n",
    "\n",
    "house_district_representatives = house_district_representatives[columns_to_keep]\n",
    "\n",
    "# Write the cleaned data to a new file\n",
    "write_path = 'cleaned_data/house_district_representatives_cleaned.shp'\n",
    "house_district_representatives.to_file(write_path, driver='ESRI Shapefile')\n",
    "print(f\"House district representatives data cleaned and saved to {write_path}\")"
   ]
  },
  {
   "cell_type": "code",
   "execution_count": 19,
   "id": "fc6c8ecb",
   "metadata": {},
   "outputs": [],
   "source": [
    "# Save to PMTTiles format\n",
    "house_district_representatives.to_file('map_data/house_districts.pmtiles', driver='PMTiles')"
   ]
  },
  {
   "cell_type": "markdown",
   "id": "5ef4ed91",
   "metadata": {},
   "source": [
    "## Join and merge all data files"
   ]
  },
  {
   "cell_type": "code",
   "execution_count": 20,
   "id": "5127f4ea",
   "metadata": {},
   "outputs": [
    {
     "name": "stdout",
     "output_type": "stream",
     "text": [
      "Index(['PREFIX', 'FIRSTNAME', 'MIDDLENAME', 'LASTNAME', 'SUFFIX', 'LISTING_NA',\n",
      "       'PHONE', 'WEBSITEURL', 'VACANT', 'CONTACTFOR', 'PHOTOURL', 'FACE_BOOK_',\n",
      "       'TWITTER_UR', 'YOUTUBE_UR', 'INSTAGRAM_', 'FLICKR_URL', 'PARTY',\n",
      "       'DISTRICT', 'STATE', 'VACANCY', 'ROOM_NUM', 'geometry', 'house_dist',\n",
      "       'Party Name', 'Vote', 'Party', 'Adult', 'Seniors', 'Children',\n",
      "       'Individuals with Disabilities', 'ACA Adults', 'Total'],\n",
      "      dtype='object')\n"
     ]
    }
   ],
   "source": [
    "\n",
    "# Join with the cleaned data about how each congressperson voted\n",
    "house_district_representatives = house_district_representatives.merge(votes, on=join_field, how='left')\n",
    "\n",
    "# Join with data on medicaid recipients\n",
    "medicaid_recipients = pd.read_csv('original_data/data-iFF42.csv')\n",
    "\n",
    "# Rename 'Congressional District' to match the join field\n",
    "medicaid_recipients.rename(columns={'Congressional District': join_field}, inplace=True)\n",
    "\n",
    "house_district_representatives = house_district_representatives.merge(medicaid_recipients, on=join_field, how='left')\n",
    "\n",
    "# Print the resulting column names\n",
    "print(house_district_representatives.columns)\n",
    "\n",
    "columns_to_keep = ['PREFIX', 'FIRSTNAME', 'MIDDLENAME', 'LASTNAME', 'SUFFIX', 'LISTING_NA',\n",
    "                   'PHONE', 'WEBSITEURL', 'VACANT', 'CONTACTFOR', 'PHOTOURL', 'FACE_BOOK_',\n",
    "                   'TWITTER_UR', 'YOUTUBE_UR', 'INSTAGRAM_', 'FLICKR_URL', 'PARTY', 'DISTRICT',\n",
    "                   'STATE', 'VACANCY', 'ROOM_NUM', 'geometry', join_field,\n",
    "                   'Party Name', 'Vote', 'Party', 'Adult', 'Seniors', 'Children',\n",
    "                   'Individuals with Disabilities', 'ACA Adults', 'Total']\n",
    "\n",
    "# Filter the GeoDataFrame to keep only the specified columns\n",
    "house_district_representatives = house_district_representatives[columns_to_keep]\n"
   ]
  }
 ],
 "metadata": {
  "kernelspec": {
   "display_name": "3.10.13",
   "language": "python",
   "name": "python3"
  },
  "language_info": {
   "codemirror_mode": {
    "name": "ipython",
    "version": 3
   },
   "file_extension": ".py",
   "mimetype": "text/x-python",
   "name": "python",
   "nbconvert_exporter": "python",
   "pygments_lexer": "ipython3",
   "version": "3.10.13"
  }
 },
 "nbformat": 4,
 "nbformat_minor": 5
}
